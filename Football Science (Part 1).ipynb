{
 "cells": [
  {
   "cell_type": "code",
   "execution_count": 1,
   "metadata": {},
   "outputs": [],
   "source": [
    "%matplotlib inline\n",
    "\n",
    "from collections import defaultdict\n",
    "import matplotlib.pyplot as plt\n",
    "import numpy as np\n",
    "import json"
   ]
  },
  {
   "cell_type": "code",
   "execution_count": 8,
   "metadata": {},
   "outputs": [],
   "source": [
    "def load_dataset(tournament):\n",
    "    matches, events = {}, {}\n",
    "    matches = json.load(open('./data/matches/matches_{}.json'.format(tournament)))\n",
    "    events = json.load(open('./data/events/events_{}.json'.format(tournament)))\n",
    "    players = json.load(open('./data/players.json'))\n",
    "    competitions = json.load(open('./data/competitions.json'))\n",
    "    teams = json.load(open('./data/teams.json'))\n",
    "    return matches, events, players, competitions, teams\n",
    "\n",
    "def get_match(matches, events):\n",
    "    match_id2events = defaultdict(list)\n",
    "    match_id2match = defaultdict(dict)\n",
    "    for event in events:\n",
    "        match_id = event['matchId']\n",
    "        match_id2events[match_id].append(event)\n",
    "                                         \n",
    "    for match in matches:\n",
    "        match_id = match['wyId']\n",
    "        match_id2match[match_id] = match\n",
    "    \n",
    "    return match_id2events, match_id2match\n",
    "    \n",
    "def get_player(players):\n",
    "    player_id2player = defaultdict(dict)\n",
    "    for player in players:\n",
    "        player_id = player['wyId']\n",
    "        player_id2player[player_id] = player\n",
    "    return player_id2player\n",
    "        \n",
    "def get_competitions(competitions):\n",
    "    competition_id2competition = defaultdict(dict)\n",
    "    for competition in competitions:\n",
    "        competition_id = competition['wyId']\n",
    "        competition_id2competition[competition_id] = competition\n",
    "    return competition_id2competition\n",
    "\n",
    "def get_teams(teams):\n",
    "    team_id2team = defaultdict(dict)\n",
    "    for team in teams:\n",
    "        team_id = team['wyId']\n",
    "        team_id2team[team_id] = team\n",
    "    return team_id2team"
   ]
  },
  {
   "cell_type": "code",
   "execution_count": 9,
   "metadata": {},
   "outputs": [],
   "source": [
    "matches, events, players, competitions, teams = load_dataset('World_Cup')"
   ]
  },
  {
   "cell_type": "code",
   "execution_count": 7,
   "metadata": {},
   "outputs": [],
   "source": [
    "match_id2events, match_id2match = get_match(matches, events)\n",
    "player_id2player = get_player(players)\n",
    "competition_id2competition = get_competitions(competitions)\n",
    "team_id2team = get_teams(teams)"
   ]
  },
  {
   "cell_type": "code",
   "execution_count": 6,
   "metadata": {},
   "outputs": [
    {
     "data": {
      "text/plain": [
       "{'passportArea': {'name': 'Turkey',\n",
       "  'id': '792',\n",
       "  'alpha3code': 'TUR',\n",
       "  'alpha2code': 'TR'},\n",
       " 'weight': 78,\n",
       " 'firstName': 'Harun',\n",
       " 'middleName': '',\n",
       " 'lastName': 'Tekin',\n",
       " 'currentTeamId': 4502,\n",
       " 'birthDate': '1989-06-17',\n",
       " 'height': 187,\n",
       " 'role': {'code2': 'GK', 'code3': 'GKP', 'name': 'Goalkeeper'},\n",
       " 'birthArea': {'name': 'Turkey',\n",
       "  'id': '792',\n",
       "  'alpha3code': 'TUR',\n",
       "  'alpha2code': 'TR'},\n",
       " 'wyId': 32777,\n",
       " 'foot': 'right',\n",
       " 'shortName': 'H. Tekin',\n",
       " 'currentNationalTeamId': 4687}"
      ]
     },
     "execution_count": 6,
     "metadata": {},
     "output_type": "execute_result"
    }
   ],
   "source": [
    "player_id2player[32777]"
   ]
  },
  {
   "cell_type": "code",
   "execution_count": 10,
   "metadata": {},
   "outputs": [
    {
     "data": {
      "text/plain": [
       "{'eventId': 8,\n",
       " 'subEventName': 'Simple pass',\n",
       " 'tags': [],\n",
       " 'playerId': 14943,\n",
       " 'positions': [{'y': 51, 'x': 50}],\n",
       " 'matchId': 2058017,\n",
       " 'eventName': 'Pass',\n",
       " 'teamId': 9598,\n",
       " 'matchPeriod': '1H',\n",
       " 'eventSec': 1.8923389999999927,\n",
       " 'subEventId': 85,\n",
       " 'id': 263883958}"
      ]
     },
     "execution_count": 10,
     "metadata": {},
     "output_type": "execute_result"
    }
   ],
   "source": [
    "match_id2events[2058017][0]"
   ]
  },
  {
   "cell_type": "code",
   "execution_count": 8,
   "metadata": {
    "scrolled": true
   },
   "outputs": [
    {
     "data": {
      "text/plain": [
       "{'status': 'Played',\n",
       " 'roundId': 4165368,\n",
       " 'gameweek': 0,\n",
       " 'teamsData': {'9598': {'scoreET': 0,\n",
       "   'coachId': 122788,\n",
       "   'side': 'away',\n",
       "   'teamId': 9598,\n",
       "   'score': 2,\n",
       "   'scoreP': 0,\n",
       "   'hasFormation': 1,\n",
       "   'formation': {'bench': [{'playerId': 69964,\n",
       "      'assists': '0',\n",
       "      'goals': 'null',\n",
       "      'ownGoals': '0',\n",
       "      'redCards': '0',\n",
       "      'yellowCards': '0'},\n",
       "     {'playerId': 69353,\n",
       "      'assists': '0',\n",
       "      'goals': 'null',\n",
       "      'ownGoals': '0',\n",
       "      'redCards': '0',\n",
       "      'yellowCards': '0'},\n",
       "     {'playerId': 212604,\n",
       "      'assists': '0',\n",
       "      'goals': 'null',\n",
       "      'ownGoals': '0',\n",
       "      'redCards': '0',\n",
       "      'yellowCards': '0'},\n",
       "     {'playerId': 69400,\n",
       "      'assists': '0',\n",
       "      'goals': 'null',\n",
       "      'ownGoals': '0',\n",
       "      'redCards': '0',\n",
       "      'yellowCards': '0'},\n",
       "     {'playerId': 230626,\n",
       "      'assists': '0',\n",
       "      'goals': 'null',\n",
       "      'ownGoals': '0',\n",
       "      'redCards': '0',\n",
       "      'yellowCards': '0'},\n",
       "     {'playerId': 69404,\n",
       "      'assists': '0',\n",
       "      'goals': 'null',\n",
       "      'ownGoals': '0',\n",
       "      'redCards': '0',\n",
       "      'yellowCards': '0'},\n",
       "     {'playerId': 135784,\n",
       "      'assists': '0',\n",
       "      'goals': 'null',\n",
       "      'ownGoals': '0',\n",
       "      'redCards': '0',\n",
       "      'yellowCards': '0'},\n",
       "     {'playerId': 14771,\n",
       "      'assists': '0',\n",
       "      'goals': 'null',\n",
       "      'ownGoals': '0',\n",
       "      'redCards': '0',\n",
       "      'yellowCards': '0'},\n",
       "     {'playerId': 231713,\n",
       "      'assists': '0',\n",
       "      'goals': 'null',\n",
       "      'ownGoals': '0',\n",
       "      'redCards': '0',\n",
       "      'yellowCards': '0'},\n",
       "     {'playerId': 69411,\n",
       "      'assists': '0',\n",
       "      'goals': '0',\n",
       "      'ownGoals': '0',\n",
       "      'redCards': '0',\n",
       "      'yellowCards': '0'},\n",
       "     {'playerId': 135810,\n",
       "      'assists': '0',\n",
       "      'goals': '0',\n",
       "      'ownGoals': '0',\n",
       "      'redCards': '0',\n",
       "      'yellowCards': '0'}],\n",
       "    'lineup': [{'playerId': 69616,\n",
       "      'assists': '0',\n",
       "      'goals': '0',\n",
       "      'ownGoals': '0',\n",
       "      'redCards': '0',\n",
       "      'yellowCards': '0'},\n",
       "     {'playerId': 105361,\n",
       "      'assists': '0',\n",
       "      'goals': '0',\n",
       "      'ownGoals': '0',\n",
       "      'redCards': '0',\n",
       "      'yellowCards': '0'},\n",
       "     {'playerId': 69409,\n",
       "      'assists': '0',\n",
       "      'goals': '0',\n",
       "      'ownGoals': '0',\n",
       "      'redCards': '0',\n",
       "      'yellowCards': '92'},\n",
       "     {'playerId': 25393,\n",
       "      'assists': '0',\n",
       "      'goals': 'null',\n",
       "      'ownGoals': '0',\n",
       "      'redCards': '0',\n",
       "      'yellowCards': '0'},\n",
       "     {'playerId': 135747,\n",
       "      'assists': '0',\n",
       "      'goals': 'null',\n",
       "      'ownGoals': '0',\n",
       "      'redCards': '0',\n",
       "      'yellowCards': '0'},\n",
       "     {'playerId': 14943,\n",
       "      'assists': '0',\n",
       "      'goals': '1',\n",
       "      'ownGoals': '1',\n",
       "      'redCards': '0',\n",
       "      'yellowCards': '0'},\n",
       "     {'playerId': 3476,\n",
       "      'assists': '0',\n",
       "      'goals': 'null',\n",
       "      'ownGoals': '0',\n",
       "      'redCards': '0',\n",
       "      'yellowCards': '0'},\n",
       "     {'playerId': 8287,\n",
       "      'assists': '0',\n",
       "      'goals': 'null',\n",
       "      'ownGoals': '0',\n",
       "      'redCards': '0',\n",
       "      'yellowCards': '0'},\n",
       "     {'playerId': 69396,\n",
       "      'assists': '1',\n",
       "      'goals': 'null',\n",
       "      'ownGoals': '0',\n",
       "      'redCards': '0',\n",
       "      'yellowCards': '0'},\n",
       "     {'playerId': 69968,\n",
       "      'assists': '0',\n",
       "      'goals': 'null',\n",
       "      'ownGoals': '0',\n",
       "      'redCards': '0',\n",
       "      'yellowCards': '0'},\n",
       "     {'playerId': 14812,\n",
       "      'assists': '0',\n",
       "      'goals': '1',\n",
       "      'ownGoals': '0',\n",
       "      'redCards': '0',\n",
       "      'yellowCards': '0'}],\n",
       "    'substitutions': [{'playerIn': 69411,\n",
       "      'assists': '0',\n",
       "      'playerOut': 69616,\n",
       "      'minute': 71},\n",
       "     {'playerIn': 135810, 'assists': '0', 'playerOut': 105361, 'minute': 81}]},\n",
       "   'scoreHT': 1},\n",
       "  '4418': {'scoreET': 0,\n",
       "   'coachId': 25549,\n",
       "   'side': 'home',\n",
       "   'teamId': 4418,\n",
       "   'score': 4,\n",
       "   'scoreP': 0,\n",
       "   'hasFormation': 1,\n",
       "   'formation': {'bench': [{'playerId': 25418,\n",
       "      'assists': '0',\n",
       "      'goals': 'null',\n",
       "      'ownGoals': '0',\n",
       "      'redCards': '0',\n",
       "      'yellowCards': '0'},\n",
       "     {'playerId': 26196,\n",
       "      'assists': '0',\n",
       "      'goals': 'null',\n",
       "      'ownGoals': '0',\n",
       "      'redCards': '0',\n",
       "      'yellowCards': '0'},\n",
       "     {'playerId': 25552,\n",
       "      'assists': '0',\n",
       "      'goals': 'null',\n",
       "      'ownGoals': '0',\n",
       "      'redCards': '0',\n",
       "      'yellowCards': '0'},\n",
       "     {'playerId': 3276,\n",
       "      'assists': '0',\n",
       "      'goals': 'null',\n",
       "      'ownGoals': '0',\n",
       "      'redCards': '0',\n",
       "      'yellowCards': '0'},\n",
       "     {'playerId': 28922,\n",
       "      'assists': '0',\n",
       "      'goals': 'null',\n",
       "      'ownGoals': '0',\n",
       "      'redCards': '0',\n",
       "      'yellowCards': '0'},\n",
       "     {'playerId': 25770,\n",
       "      'assists': '0',\n",
       "      'goals': 'null',\n",
       "      'ownGoals': '0',\n",
       "      'redCards': '0',\n",
       "      'yellowCards': '0'},\n",
       "     {'playerId': 286390,\n",
       "      'assists': '0',\n",
       "      'goals': 'null',\n",
       "      'ownGoals': '0',\n",
       "      'redCards': '0',\n",
       "      'yellowCards': '0'},\n",
       "     {'playerId': 231138,\n",
       "      'assists': '0',\n",
       "      'goals': 'null',\n",
       "      'ownGoals': '0',\n",
       "      'redCards': '0',\n",
       "      'yellowCards': '0'},\n",
       "     {'playerId': 26136,\n",
       "      'assists': '0',\n",
       "      'goals': 'null',\n",
       "      'ownGoals': '0',\n",
       "      'redCards': '0',\n",
       "      'yellowCards': '0'},\n",
       "     {'playerId': 209091,\n",
       "      'assists': '0',\n",
       "      'goals': '0',\n",
       "      'ownGoals': '0',\n",
       "      'redCards': '0',\n",
       "      'yellowCards': '0'},\n",
       "     {'playerId': 8200,\n",
       "      'assists': '0',\n",
       "      'goals': '0',\n",
       "      'ownGoals': '0',\n",
       "      'redCards': '0',\n",
       "      'yellowCards': '0'},\n",
       "     {'playerId': 28115,\n",
       "      'assists': '0',\n",
       "      'goals': '0',\n",
       "      'ownGoals': '0',\n",
       "      'redCards': '0',\n",
       "      'yellowCards': '0'}],\n",
       "    'lineup': [{'playerId': 31528,\n",
       "      'assists': '0',\n",
       "      'goals': '0',\n",
       "      'ownGoals': '0',\n",
       "      'redCards': '0',\n",
       "      'yellowCards': '27'},\n",
       "     {'playerId': 25437,\n",
       "      'assists': '0',\n",
       "      'goals': '0',\n",
       "      'ownGoals': '0',\n",
       "      'redCards': '0',\n",
       "      'yellowCards': '0'},\n",
       "     {'playerId': 26010,\n",
       "      'assists': '0',\n",
       "      'goals': '0',\n",
       "      'ownGoals': '0',\n",
       "      'redCards': '0',\n",
       "      'yellowCards': '0'},\n",
       "     {'playerId': 3309,\n",
       "      'assists': '0',\n",
       "      'goals': 'null',\n",
       "      'ownGoals': '0',\n",
       "      'redCards': '0',\n",
       "      'yellowCards': '0'},\n",
       "     {'playerId': 7936,\n",
       "      'assists': '0',\n",
       "      'goals': '1',\n",
       "      'ownGoals': '0',\n",
       "      'redCards': '0',\n",
       "      'yellowCards': '0'},\n",
       "     {'playerId': 353833,\n",
       "      'assists': '0',\n",
       "      'goals': '1',\n",
       "      'ownGoals': '0',\n",
       "      'redCards': '0',\n",
       "      'yellowCards': '0'},\n",
       "     {'playerId': 340646,\n",
       "      'assists': '0',\n",
       "      'goals': 'null',\n",
       "      'ownGoals': '0',\n",
       "      'redCards': '0',\n",
       "      'yellowCards': '0'},\n",
       "     {'playerId': 25397,\n",
       "      'assists': '0',\n",
       "      'goals': 'null',\n",
       "      'ownGoals': '0',\n",
       "      'redCards': '0',\n",
       "      'yellowCards': '0'},\n",
       "     {'playerId': 279545,\n",
       "      'assists': '0',\n",
       "      'goals': '0',\n",
       "      'ownGoals': '0',\n",
       "      'redCards': '0',\n",
       "      'yellowCards': '41'},\n",
       "     {'playerId': 3682,\n",
       "      'assists': '0',\n",
       "      'goals': '1',\n",
       "      'ownGoals': '0',\n",
       "      'redCards': '0',\n",
       "      'yellowCards': '0'},\n",
       "     {'playerId': 25381,\n",
       "      'assists': '0',\n",
       "      'goals': 'null',\n",
       "      'ownGoals': '0',\n",
       "      'redCards': '0',\n",
       "      'yellowCards': '0'}],\n",
       "    'substitutions': [{'playerIn': 8200,\n",
       "      'assists': '0',\n",
       "      'playerOut': 31528,\n",
       "      'minute': 55},\n",
       "     {'playerIn': 209091, 'assists': '0', 'playerOut': 25437, 'minute': 73},\n",
       "     {'playerIn': 28115, 'assists': '0', 'playerOut': 26010, 'minute': 81}]},\n",
       "   'scoreHT': 2}},\n",
       " 'seasonId': 10078,\n",
       " 'dateutc': '2018-07-15 15:00:00',\n",
       " 'winner': 4418,\n",
       " 'venue': 'Olimpiyskiy stadion Luzhniki',\n",
       " 'wyId': 2058017,\n",
       " 'label': 'France - Croatia, 4 - 2',\n",
       " 'date': 'July 15, 2018 at 5:00:00 PM GMT+2',\n",
       " 'groupName': '',\n",
       " 'referees': [{'refereeId': 378051, 'role': 'referee'},\n",
       "  {'refereeId': 378038, 'role': 'firstAssistant'},\n",
       "  {'refereeId': 378060, 'role': 'secondAssistant'},\n",
       "  {'refereeId': 377215, 'role': 'fourthOfficial'}],\n",
       " 'duration': 'Regular',\n",
       " 'competitionId': 28}"
      ]
     },
     "execution_count": 8,
     "metadata": {},
     "output_type": "execute_result"
    }
   ],
   "source": [
    "match_id2match[2058017]"
   ]
  },
  {
   "cell_type": "code",
   "execution_count": 9,
   "metadata": {},
   "outputs": [
    {
     "data": {
      "text/plain": [
       "{'name': 'World Cup',\n",
       " 'wyId': 28,\n",
       " 'format': 'International cup',\n",
       " 'area': {'name': '', 'id': 0, 'alpha3code': 'XWO', 'alpha2code': ''},\n",
       " 'type': 'international'}"
      ]
     },
     "execution_count": 9,
     "metadata": {},
     "output_type": "execute_result"
    }
   ],
   "source": [
    "competition_id2competition[28]"
   ]
  },
  {
   "cell_type": "code",
   "execution_count": 10,
   "metadata": {},
   "outputs": [
    {
     "data": {
      "text/plain": [
       "{'city': 'Zagreb',\n",
       " 'name': 'Croatia',\n",
       " 'wyId': 9598,\n",
       " 'officialName': 'Croatia',\n",
       " 'area': {'name': 'Croatia',\n",
       "  'id': 191,\n",
       "  'alpha3code': 'HRV',\n",
       "  'alpha2code': 'HR'},\n",
       " 'type': 'national'}"
      ]
     },
     "execution_count": 10,
     "metadata": {},
     "output_type": "execute_result"
    }
   ],
   "source": [
    "team_id2team[9598]"
   ]
  },
  {
   "cell_type": "code",
   "execution_count": 14,
   "metadata": {},
   "outputs": [
    {
     "data": {
      "image/png": "[encoded data removed]",
      "text/plain": [
       "<Figure size 432x288 with 1 Axes>"
      ]
     },
     "metadata": {
      "needs_background": "light"
     },
     "output_type": "display_data"
    }
   ],
   "source": [
    "heights = [player['height'] for player in player_id2player.values() if player['height'] > 0]\n",
    "fig,ax = plt.subplots(1,1)\n",
    "ax.hist(heights)\n",
    "ax.set_title(\"histogram of height\")\n",
    "ax.set_xlabel('height [cm]')\n",
    "ax.set_ylabel('frequency')\n",
    "plt.show()"
   ]
  },
  {
   "cell_type": "code",
   "execution_count": 15,
   "metadata": {},
   "outputs": [
    {
     "data": {
      "image/png": "[encoded data removed]",
      "text/plain": [
       "<Figure size 432x288 with 1 Axes>"
      ]
     },
     "metadata": {
      "needs_background": "light"
     },
     "output_type": "display_data"
    }
   ],
   "source": [
    "weight = [player['weight'] for player in player_id2player.values() if player['weight'] > 0]\n",
    "fig,ax = plt.subplots(1,1)\n",
    "ax.hist(weight)\n",
    "ax.set_title(\"histogram of weight\")\n",
    "ax.set_xlabel('weight [kg]')\n",
    "ax.set_ylabel('frequency')\n",
    "plt.show()"
   ]
  },
  {
   "cell_type": "code",
   "execution_count": 17,
   "metadata": {},
   "outputs": [],
   "source": [
    "scores = []\n",
    "for match in match_id2match.values():\n",
    "    score = 0\n",
    "    for team in match['teamsData'].values():\n",
    "        score += team['score']\n",
    "    scores.append(score)"
   ]
  },
  {
   "cell_type": "code",
   "execution_count": 18,
   "metadata": {},
   "outputs": [
    {
     "data": {
      "image/png": "[encoded data removed]",
      "text/plain": [
       "<Figure size 432x288 with 1 Axes>"
      ]
     },
     "metadata": {
      "needs_background": "light"
     },
     "output_type": "display_data"
    }
   ],
   "source": [
    "scores = np.array(scores)\n",
    "fig,ax = plt.subplots(1,1)\n",
    "ax.hist(scores, bins = [0, 1, 2, 3, 4, 5, 6, 7])\n",
    "ax.set_title(\"histogram of goals\")\n",
    "ax.set_xticks([0, 1, 2, 3, 4, 5, 6, 7])\n",
    "ax.set_xlabel('goals')\n",
    "ax.set_yticks([0, 2, 4, 6, 8, 10, 12, 14, 16, 18, 20])\n",
    "ax.set_ylabel('frequency')\n",
    "plt.show()"
   ]
  },
  {
   "cell_type": "code",
   "execution_count": 19,
   "metadata": {},
   "outputs": [],
   "source": [
    "event_key = []\n",
    "sub_event_key = []\n",
    "\n",
    "for events in match_id2events.values():\n",
    "    for event in events:\n",
    "        event_key.append(event['eventName'])\n",
    "        sub_event_key.append(event['subEventName'])\n",
    "        \n",
    "event_key = list(set(event_key))\n",
    "sub_event_key = list(set(sub_event_key))"
   ]
  },
  {
   "cell_type": "code",
   "execution_count": 20,
   "metadata": {
    "scrolled": true
   },
   "outputs": [
    {
     "data": {
      "text/plain": [
       "{'Duel',\n",
       " 'Foul',\n",
       " 'Free Kick',\n",
       " 'Goalkeeper leaving line',\n",
       " 'Offside',\n",
       " 'Others on the ball',\n",
       " 'Pass',\n",
       " 'Save attempt',\n",
       " 'Shot'}"
      ]
     },
     "execution_count": 20,
     "metadata": {},
     "output_type": "execute_result"
    }
   ],
   "source": [
    "set(event_key)"
   ]
  },
  {
   "cell_type": "code",
   "execution_count": 21,
   "metadata": {
    "scrolled": true
   },
   "outputs": [
    {
     "data": {
      "text/plain": [
       "{'',\n",
       " 'Acceleration',\n",
       " 'Air duel',\n",
       " 'Clearance',\n",
       " 'Corner',\n",
       " 'Cross',\n",
       " 'Foul',\n",
       " 'Free Kick',\n",
       " 'Free kick cross',\n",
       " 'Free kick shot',\n",
       " 'Goal kick',\n",
       " 'Goalkeeper leaving line',\n",
       " 'Ground attacking duel',\n",
       " 'Ground defending duel',\n",
       " 'Ground loose ball duel',\n",
       " 'Hand foul',\n",
       " 'Hand pass',\n",
       " 'Head pass',\n",
       " 'High pass',\n",
       " 'Late card foul',\n",
       " 'Launch',\n",
       " 'Out of game foul',\n",
       " 'Penalty',\n",
       " 'Protest',\n",
       " 'Reflexes',\n",
       " 'Save attempt',\n",
       " 'Shot',\n",
       " 'Simple pass',\n",
       " 'Simulation',\n",
       " 'Smart pass',\n",
       " 'Throw in',\n",
       " 'Time lost foul',\n",
       " 'Touch',\n",
       " 'Violent Foul'}"
      ]
     },
     "execution_count": 21,
     "metadata": {},
     "output_type": "execute_result"
    }
   ],
   "source": [
    "set(sub_event_key)"
   ]
  },
  {
   "cell_type": "code",
   "execution_count": 29,
   "metadata": {
    "scrolled": true
   },
   "outputs": [],
   "source": [
    "event_stats = []\n",
    "sub_event_stats = []\n",
    "\n",
    "for events in match_id2events.values():\n",
    "    event_stat = {key: 0 for key in event_key}\n",
    "    sub_event_stat = {key: 0 for key in sub_event_key}\n",
    "    \n",
    "    for event in events:\n",
    "        event_stat[event['eventName']] += 1\n",
    "        sub_event_stat[event['subEventName']] += 1\n",
    "\n",
    "    event_stats.append(event_stat)\n",
    "    sub_event_stats.append(sub_event_stat)"
   ]
  },
  {
   "cell_type": "code",
   "execution_count": 23,
   "metadata": {
    "scrolled": true
   },
   "outputs": [
    {
     "data": {
      "text/plain": [
       "{'Goalkeeper leaving line': 0,\n",
       " 'Duel': 468,\n",
       " 'Free Kick': 105,\n",
       " 'Offside': 4,\n",
       " 'Others on the ball': 128,\n",
       " 'Foul': 32,\n",
       " 'Shot': 18,\n",
       " 'Pass': 827,\n",
       " 'Save attempt': 7}"
      ]
     },
     "execution_count": 23,
     "metadata": {},
     "output_type": "execute_result"
    }
   ],
   "source": [
    "event_stats[0]"
   ]
  },
  {
   "cell_type": "code",
   "execution_count": 24,
   "metadata": {},
   "outputs": [
    {
     "data": {
      "text/plain": [
       "{'': 4,\n",
       " 'Free Kick': 23,\n",
       " 'Cross': 16,\n",
       " 'Protest': 0,\n",
       " 'Clearance': 28,\n",
       " 'Foul': 31,\n",
       " 'Smart pass': 7,\n",
       " 'Ground defending duel': 143,\n",
       " 'Violent Foul': 0,\n",
       " 'Hand pass': 2,\n",
       " 'Time lost foul': 0,\n",
       " 'Out of game foul': 0,\n",
       " 'Head pass': 54,\n",
       " 'Free kick shot': 1,\n",
       " 'Simulation': 0,\n",
       " 'Free kick cross': 4,\n",
       " 'Save attempt': 2,\n",
       " 'Air duel': 114,\n",
       " 'Goalkeeper leaving line': 0,\n",
       " 'Reflexes': 5,\n",
       " 'High pass': 59,\n",
       " 'Ground loose ball duel': 71,\n",
       " 'Launch': 31,\n",
       " 'Shot': 18,\n",
       " 'Late card foul': 0,\n",
       " 'Acceleration': 18,\n",
       " 'Ground attacking duel': 140,\n",
       " 'Goal kick': 10,\n",
       " 'Throw in': 59,\n",
       " 'Simple pass': 658,\n",
       " 'Penalty': 0,\n",
       " 'Hand foul': 1,\n",
       " 'Touch': 82,\n",
       " 'Corner': 8}"
      ]
     },
     "execution_count": 24,
     "metadata": {},
     "output_type": "execute_result"
    }
   ],
   "source": [
    "sub_event_stats[0]"
   ]
  },
  {
   "cell_type": "code",
   "execution_count": 26,
   "metadata": {
    "scrolled": true
   },
   "outputs": [
    {
     "data": {
      "image/png": "[encoded data removed]",
      "text/plain": [
       "<Figure size 432x288 with 1 Axes>"
      ]
     },
     "metadata": {
      "needs_background": "light"
     },
     "output_type": "display_data"
    }
   ],
   "source": [
    "pass_stat = [event['Pass'] for event in event_stats if 'Pass' in event]\n",
    "fig,ax = plt.subplots(1,1)\n",
    "ax.hist(pass_stat)\n",
    "ax.set_title(\"histogram of passes\")\n",
    "ax.set_xlabel('passes')\n",
    "ax.set_yticks([0, 2, 4, 6, 8, 10, 12, 14, 16, 18, 20])\n",
    "ax.set_ylabel('frequency')\n",
    "plt.show()"
   ]
  },
  {
   "cell_type": "code",
   "execution_count": 27,
   "metadata": {
    "scrolled": false
   },
   "outputs": [
    {
     "data": {
      "image/png": "[encoded data removed]",
      "text/plain": [
       "<Figure size 432x288 with 1 Axes>"
      ]
     },
     "metadata": {
      "needs_background": "light"
     },
     "output_type": "display_data"
    }
   ],
   "source": [
    "shot_stat = [event['Shot'] for event in event_stats if 'Shot' in event]\n",
    "fig,ax = plt.subplots(1,1)\n",
    "ax.hist(shot_stat)\n",
    "ax.set_title(\"histogram of shots\")\n",
    "ax.set_xlabel('shots')\n",
    "ax.set_yticks([0, 2, 4, 6, 8, 10, 12, 14])\n",
    "ax.set_ylabel('frequency')\n",
    "plt.show()"
   ]
  },
  {
   "cell_type": "code",
   "execution_count": 28,
   "metadata": {},
   "outputs": [
    {
     "data": {
      "image/png": "[encoded data removed]",
      "text/plain": [
       "<Figure size 432x288 with 1 Axes>"
      ]
     },
     "metadata": {
      "needs_background": "light"
     },
     "output_type": "display_data"
    }
   ],
   "source": [
    "leaving_line_stat = [event['Goalkeeper leaving line'] for event in sub_event_stats if 'Goalkeeper leaving line' in event]\n",
    "fig,ax = plt.subplots(1,1)\n",
    "ax.hist(leaving_line_stat)\n",
    "ax.set_title(\"histogram of Goalkeeper leaving line\")\n",
    "ax.set_xlabel('Goalkeeper leaving line')\n",
    "ax.set_yticks([0, 2, 4, 6, 8, 10, 12, 14])\n",
    "ax.set_ylabel('frequency')\n",
    "plt.show()"
   ]
  },
  {
   "cell_type": "code",
   "execution_count": null,
   "metadata": {},
   "outputs": [],
   "source": []
  }
 ],
 "metadata": {
  "kernelspec": {
   "display_name": "Python 3",
   "language": "python",
   "name": "python3"
  },
  "language_info": {
   "codemirror_mode": {
    "name": "ipython",
    "version": 3
   },
   "file_extension": ".py",
   "mimetype": "text/x-python",
   "name": "python",
   "nbconvert_exporter": "python",
   "pygments_lexer": "ipython3",
   "version": "3.7.6"
  }
 },
 "nbformat": 4,
 "nbformat_minor": 4
}
